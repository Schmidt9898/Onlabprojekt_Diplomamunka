{
 "cells": [
  {
   "cell_type": "code",
   "execution_count": 1,
   "metadata": {},
   "outputs": [],
   "source": [
    "import pandas as pd\n",
    "\n",
    "F800_16 = pd.read_csv(\"./summary_F800_16.csv\")\n",
    "h = [i for i in F800_16.columns if i not in [ 'Section Name', 'Metric Name','Metric Unit']]\n",
    "df = F800_16\n"
   ]
  },
  {
   "cell_type": "code",
   "execution_count": null,
   "metadata": {},
   "outputs": [],
   "source": [
    "dt = df.transpose()"
   ]
  },
  {
   "cell_type": "code",
   "execution_count": 2,
   "metadata": {},
   "outputs": [
    {
     "data": {
      "text/plain": [
       "[3,\n",
       " 'Command line profiler metrics',\n",
       " 'smsp__sass_thread_inst_executed_op_integer_pred_on.sum',\n",
       " 'inst',\n",
       " 276263307296.0,\n",
       " 130308970672.0,\n",
       " 129612911708.0,\n",
       " 130309577416.0,\n",
       " 130308970672.0,\n",
       " 129612911708.0,\n",
       " 87239955700.0,\n",
       " 90743430388.0,\n",
       " 94528793844.0,\n",
       " 92998540532.0,\n",
       " 97589300468.0,\n",
       " 21491335168.0,\n",
       " 21464958976.0,\n",
       " 21464958976.0,\n",
       " 21464958976.0,\n",
       " 21482708992.0,\n",
       " 135339018882.0,\n",
       " 141400397060.0,\n",
       " 141400397060.0,\n",
       " 153523153416.0,\n",
       " 137436695812.0]"
      ]
     },
     "execution_count": 2,
     "metadata": {},
     "output_type": "execute_result"
    }
   ],
   "source": [
    "list(df.iloc[3])"
   ]
  },
  {
   "cell_type": "code",
   "execution_count": null,
   "metadata": {},
   "outputs": [],
   "source": []
  },
  {
   "cell_type": "code",
   "execution_count": 63,
   "metadata": {},
   "outputs": [
    {
     "name": "stdout",
     "output_type": "stream",
     "text": [
      "smsp__sass_thread_inst_executed_op_dadd_pred_on.sum\n",
      "smsp__sass_thread_inst_executed_op_dfma_pred_on.sum\n",
      "smsp__sass_thread_inst_executed_op_dmul_pred_on.sum\n",
      "smsp__sass_thread_inst_executed_op_fp32_pred_on.sum 0.03389830508474576 36588011520.0 35368411136.0\n",
      "smsp__sass_thread_inst_executed_op_fp64_pred_on.sum\n",
      "smsp__sass_thread_inst_executed_op_integer_pred_on.sum 0.717974857279805 276263307296.0 130308970672.0\n",
      "smsp__sass_thread_inst_executed_ops_dadd_dmul_dfma_pred_on.sum\n",
      "DRAM Frequency 2.168458076473688e-05 1214919620.668 1214893275.9310002\n",
      "SM Frequency 1.996347538713984e-05 764949746.1920002 764934475.2889998\n",
      "Elapsed Cycles 1.051573126758581 88319617.0 27449677.5\n",
      "Memory [%] 0.31104178852277903 32.485 44.45\n",
      "DRAM Throughput 0.5101230262520584 25.912 15.38\n",
      "Duration 1.0515587093405339 115458057.6 35885001.6\n",
      "L1/TEX Cache Throughput 0.929818780889621 16.240000000000002 44.46\n",
      "L2 Cache Throughput 0.0769241516129487 37.165000000000006 34.41199999999999\n",
      "SM Active Cycles 1.051689964566335 88314897.765 27443778.628\n",
      "Compute (SM) [%] 0.5829668470906632 33.51 61.08200000000001\n",
      "Executed Ipc Active 0.5816353532680604 1.34 2.439\n",
      "Executed Ipc Elapsed 0.5782493368700264 1.34 2.43\n",
      "Issue Slots Busy 0.5830699798124993 33.515 61.098\n",
      "Issued Ipc Active 0.5820105820105821 1.34 2.4400000000000004\n",
      "SM Busy 0.5830699798124993 33.515 61.098\n",
      "Memory Throughput 0.5101481134202461 402990577414.6181 239187587706.50897\n",
      "Mem Busy 0.31104178852277903 32.485 44.45\n",
      "Max Bandwidth 0.4272404479378472 25.912 39.99\n",
      "L1/TEX Hit Rate 0.575458153872139 42.17 76.24\n",
      "L2 Compression Success Rate\n",
      "L2 Compression Ratio\n",
      "L2 Hit Rate 0.38544413588169835 51.889 76.66399999999999\n",
      "Mem Pipes Busy 0.9420636380356814 14.38 39.99\n",
      "One or More Eligible 0.5830523523132048 33.514 61.095000000000006\n",
      "Issued Warp Per Scheduler 0.5684210526315794 0.3399999999999999 0.6100000000000001\n",
      "No Eligible 0.5234033266597717 66.486 38.905\n",
      "Active Warps Per Scheduler 0.6825127334465196 3.88 7.900000000000001\n",
      "Eligible Warps Per Scheduler 1.14975845410628 0.44 1.6299999999999997\n",
      "Warp Cycles Per Issued Instruction 0.10875861787622881 11.59 12.922999999999998\n",
      "Warp Cycles Per Executed Instruction 0.11108850457782314 11.605 12.970000000000002\n",
      "Avg. Active Threads Per Warp 0.01860905219996834 32.0 31.410000000000004\n",
      "Avg. Not Predicated Off Threads Per Warp 0.016078753076292338 30.72000000000001 30.23\n",
      "Avg. Executed Instructions Per Scheduler 0.5554518571129082 29554841.48 16706787.59\n",
      "Executed Instructions 0.5554518570159558 12767691520.0 7217332240.0\n",
      "Avg. Issued Instructions Per Scheduler 0.5535032535117242 29598982.487000007 16767095.091\n",
      "Issued Instructions 0.5535032535360742 12786760434.7 7243385079.3\n",
      "Block Size 0.6666666666666666 128.0 256.0\n",
      "Grid Size 1.5481171548117154 4764064.0 606744.0\n",
      "Registers Per Thread 0.15384615384615385 48.0 56.0\n",
      "Shared Memory Configuration Size 0.27586206896551724 135168.0 102400.0\n",
      "Driver Shared Memory Per Block 0.0 1024.0 1024.0\n",
      "Dynamic Shared Memory Per Block\n",
      "Static Shared Memory Per Block 0.06609934692262022 9772.0 10440.0\n",
      "Threads 1.1879699248120301 609800192.0 155326464.0\n",
      "Waves Per SM 1.0339892050271078 4411.17 1404.5\n",
      "Block Limit SM 0.0 32.0 32.0\n",
      "Block Limit Registers 0.8571428571428571 10.0 4.0\n",
      "Block Limit Shared Mem 0.4 12.0 8.0\n",
      "Block Limit Warps 0.6666666666666666 16.0 8.0\n",
      "Theoretical Active Warps per SM 0.2222222222222222 40.0 32.0\n",
      "Theoretical Occupancy 0.2222222222222222 62.5 50.0\n",
      "Achieved Occupancy 0.6800488268004883 24.329999999999995 49.39999999999999\n",
      "Achieved Active Warps Per SM 0.6802288620470439 15.57 31.62\n",
      "Branch Instructions Ratio 0.0 0.03 0.03\n",
      "Branch Instructions 0.3847548566142461 362068864.0 245236936.0\n",
      "Branch Efficiency 0.011768847759392465 100.0 98.83\n",
      "Avg. Divergent Branches 2.0 0.0 4473.589999999999\n"
     ]
    }
   ],
   "source": [
    "\n",
    "#len(df)\n",
    "for i in range(len(df)):\n",
    "\trow = list(df.iloc[i])\n",
    "\tif row[4]+row[5] != 0:\n",
    "\t\t#if abs (row[0]/row[4]) > 0.5 : \n",
    "\t\tprint(row[2], abs (row[4]-row[5])/((row[4]+row[5])/2) , row[4],row[5] )\n",
    "\telse:\n",
    "\t\tprint(row[2])"
   ]
  },
  {
   "cell_type": "code",
   "execution_count": 15,
   "metadata": {},
   "outputs": [],
   "source": [
    "mean = df.mean()\n",
    "std = df.std()"
   ]
  }
 ],
 "metadata": {
  "kernelspec": {
   "display_name": "Python 3",
   "language": "python",
   "name": "python3"
  },
  "language_info": {
   "codemirror_mode": {
    "name": "ipython",
    "version": 3
   },
   "file_extension": ".py",
   "mimetype": "text/x-python",
   "name": "python",
   "nbconvert_exporter": "python",
   "pygments_lexer": "ipython3",
   "version": "3.10.6"
  },
  "orig_nbformat": 4
 },
 "nbformat": 4,
 "nbformat_minor": 2
}
